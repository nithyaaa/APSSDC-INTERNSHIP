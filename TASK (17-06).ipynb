{
 "cells": [
  {
   "cell_type": "markdown",
   "id": "405eb8d7",
   "metadata": {},
   "source": [
    "### D. NITHYA SAHITHI\n",
    "### AP19110010150\n",
    "### SRM UNIVERSITY"
   ]
  },
  {
   "cell_type": "markdown",
   "id": "4741c983",
   "metadata": {},
   "source": [
    "### TASK:\n",
    "* Generate a 3-digit OTP from 2 different classes (Mail class and Phone class)\n",
    "* return 6-digit OTP from both Base classes "
   ]
  },
  {
   "cell_type": "code",
   "execution_count": 8,
   "id": "55e450cc",
   "metadata": {},
   "outputs": [
    {
     "name": "stdout",
     "output_type": "stream",
     "text": [
      "OTP generation in the Mail class.\n",
      "OTP generation in the Phone class.\n",
      "OTP generation from both classes\n",
      "492691\n"
     ]
    }
   ],
   "source": [
    "import random\n",
    "class Mail():\n",
    "    str1 = \"\"\n",
    "    def __init__(self):\n",
    "        print(\"OTP generation in the Mail class.\")\n",
    "    def otp_1(self):\n",
    "        for i in range(3):\n",
    "            self.str1 = self.str1 + str(random.randint(0, 9))\n",
    "        return self.str1\n",
    "class Phone():\n",
    "    str2 = \"\"\n",
    "    def __init__(self):\n",
    "        print(\"OTP generation in the Phone class.\")\n",
    "    def otp_2(self):\n",
    "        for i in range(3):\n",
    "            self.str2 = self.str2 + str(random.randint(0, 9))\n",
    "        return self.str2\n",
    "class Otp(Mail, Phone):\n",
    "    str = \"\"\n",
    "    def __init__(self):\n",
    "        Mail.__init__(self)\n",
    "        Phone.__init__(self)\n",
    "        print(\"OTP generation from both classes\")\n",
    "    def otp(self):\n",
    "        self.str = Mail.otp_1(self) + Phone.otp_2(self)\n",
    "        return self.str\n",
    "object = Otp()\n",
    "print(object.otp())"
   ]
  }
 ],
 "metadata": {
  "kernelspec": {
   "display_name": "Python 3",
   "language": "python",
   "name": "python3"
  },
  "language_info": {
   "codemirror_mode": {
    "name": "ipython",
    "version": 3
   },
   "file_extension": ".py",
   "mimetype": "text/x-python",
   "name": "python",
   "nbconvert_exporter": "python",
   "pygments_lexer": "ipython3",
   "version": "3.8.8"
  }
 },
 "nbformat": 4,
 "nbformat_minor": 5
}
